{
  "nbformat": 4,
  "nbformat_minor": 0,
  "metadata": {
    "colab": {
      "provenance": []
    },
    "kernelspec": {
      "name": "python3",
      "display_name": "Python 3"
    },
    "language_info": {
      "name": "python"
    }
  },
  "cells": [
    {
      "cell_type": "code",
      "source": [
        "import numpy as np\n",
        "from scipy.stats import t, norm\n",
        "\n",
        "# Data\n",
        "durability = [1.13, 1.55, 1.43, 0.92, 1.25, 1.36, 1.32, 0.85, 1.07, 1.48, 1.20, 1.33, 1.18, 1.22, 1.29]\n",
        "\n",
        "# Sample statistics\n",
        "sample_mean = np.mean(durability)\n",
        "sample_std_dev = np.std(durability, ddof=1)  # Sample standard deviation (ddof=1 for sample std dev)\n",
        "sample_size = len(durability)  # Sample size\n",
        "\n",
        "# Print the statistics\n",
        "print(f\"Sample Mean: {sample_mean}\")\n",
        "print(f\"Sample Standard Deviation: {sample_std_dev}\")\n",
        "print(f\"Sample Size: {sample_size}\")\n"
      ],
      "metadata": {
        "colab": {
          "base_uri": "https://localhost:8080/"
        },
        "id": "bv2f7IvFsAWC",
        "outputId": "8907af5e-e9c4-428b-a251-69cb23c13bb5"
      },
      "execution_count": 15,
      "outputs": [
        {
          "output_type": "stream",
          "name": "stdout",
          "text": [
            "Sample Mean: 1.2386666666666666\n",
            "Sample Standard Deviation: 0.19316412956959936\n",
            "Sample Size: 15\n"
          ]
        }
      ]
    },
    {
      "cell_type": "code",
      "source": [
        "# Degrees of freedom\n",
        "df = sample_size - 1\n",
        "\n",
        "# Critical t-value for 99% confidence interval\n",
        "alpha = 0.01  # 1 - confidence level\n",
        "t_critical = t.ppf(1 - alpha / 2, df)\n",
        "\n",
        "# Margin of error\n",
        "margin_of_error_t = t_critical * (sample_std_dev / np.sqrt(sample_size))\n",
        "\n",
        "# Confidence interval\n",
        "lower_bound_t = sample_mean - margin_of_error_t\n",
        "upper_bound_t = sample_mean + margin_of_error_t\n",
        "\n",
        "print(\"99% Confidence Interval (Using Sample Standard Deviation):\")\n",
        "print(f\"Lower Bound: {lower_bound_t:.4f}, Upper Bound: {upper_bound_t:.4f}\")"
      ],
      "metadata": {
        "colab": {
          "base_uri": "https://localhost:8080/"
        },
        "id": "yd_XLzNgsHoi",
        "outputId": "9567d33e-585a-4523-ebd2-76282ddcab73"
      },
      "execution_count": 16,
      "outputs": [
        {
          "output_type": "stream",
          "name": "stdout",
          "text": [
            "99% Confidence Interval (Using Sample Standard Deviation):\n",
            "Lower Bound: 1.0902, Upper Bound: 1.3871\n"
          ]
        }
      ]
    },
    {
      "cell_type": "code",
      "source": [
        "# Known population standard deviation\n",
        "population_std_dev = 0.2\n",
        "\n",
        "# Critical z-value for 99% confidence interval\n",
        "z_critical = norm.ppf(1 - alpha / 2)\n",
        "\n",
        "# Margin of error\n",
        "margin_of_error_z = z_critical * (population_std_dev / np.sqrt(sample_size))\n",
        "\n",
        "# Confidence interval\n",
        "lower_bound_z = sample_mean - margin_of_error_z\n",
        "upper_bound_z = sample_mean + margin_of_error_z\n",
        "\n",
        "print(\"\\n99% Confidence Interval (Using Known Population Standard Deviation):\")\n",
        "print(f\"Lower Bound: {lower_bound_z:.4f}, Upper Bound: {upper_bound_z:.4f}\")"
      ],
      "metadata": {
        "colab": {
          "base_uri": "https://localhost:8080/"
        },
        "id": "b5Fom061sM49",
        "outputId": "8d5a332a-16a0-40da-8c18-17e9bfbd39b0"
      },
      "execution_count": 17,
      "outputs": [
        {
          "output_type": "stream",
          "name": "stdout",
          "text": [
            "\n",
            "99% Confidence Interval (Using Known Population Standard Deviation):\n",
            "Lower Bound: 1.1057, Upper Bound: 1.3717\n"
          ]
        }
      ]
    },
    {
      "cell_type": "code",
      "source": [],
      "metadata": {
        "id": "D4Ex3J7CsQfQ"
      },
      "execution_count": null,
      "outputs": []
    }
  ]
}