{
  "nbformat": 4,
  "nbformat_minor": 0,
  "metadata": {
    "colab": {
      "provenance": []
    },
    "kernelspec": {
      "name": "python3",
      "display_name": "Python 3"
    },
    "language_info": {
      "name": "python"
    }
  },
  "cells": [
    {
      "cell_type": "markdown",
      "source": [
        "# **HYPOTHESIS TESTING**\n",
        "\n",
        "Hypotheses Statement\n",
        "\n",
        "Null Hypothesis (H₀): The mean weekly operating cost follows the theoretical model, i.e., the mean weekly cost is Rs. 4,000 (since ( W = 1000 + 5 \\times 600 = 4000 )). H0​:μ=4000\n",
        "\n",
        "Alternative Hypothesis (H₁): The mean weekly operating cost is higher than the theoretical model, i.e., the mean weekly cost is greater than Rs. 4,000. H1​:μ>4000"
      ],
      "metadata": {
        "id": "wUlkCL89Ykhp"
      }
    },
    {
      "cell_type": "markdown",
      "source": [
        "# **TEST STATISTICS**\n",
        "\n",
        "To calculate the test statistic (t) for the given data, we can use the following formula: t=(x̅ – μ0) / (σ /√n) where:\n",
        "\n",
        "( \\bar{x} ) is the sample mean weekly cost (Rs. 3,050) ( \\mu ) is the theoretical mean weekly cost (Rs. 4,000) ( \\sigma ) is the standard deviation (5 * 25 units) ( n ) is the sample size (25 restaurants)\n",
        "\n",
        "Given Data\n",
        "\n",
        "Sample mean (( \\bar{x} )) = Rs. 3,050 Theoretical mean (( \\mu )) = Rs. 4,000 Standard deviation (( \\sigma )) = 5 * 25 = 125 Sample size (( n )) = 25\n",
        "\n",
        "Calculation\n",
        "\n",
        "Calculate the standard error (SE): SE= (σ /√n)​=25​125​=5125​=25\n",
        "\n",
        "Calculate the t-score: t=253050−4000​=25−950​=−38"
      ],
      "metadata": {
        "id": "0VBMahitY0yR"
      }
    },
    {
      "cell_type": "markdown",
      "source": [
        "# **CRITICAL VALUE**"
      ],
      "metadata": {
        "id": "F13wEZMaZAsC"
      }
    },
    {
      "cell_type": "code",
      "source": [
        "import scipy.stats as stats\n",
        "\n",
        "# For a one-tailed test\n",
        "alpha = 0.05\n",
        "critical_value = stats.norm.ppf(1 - alpha)\n",
        "print(f\"Critical Value (one-tailed): {critical_value}\")\n",
        "\n",
        "# For a two-tailed test\n",
        "critical_value_two_tailed = stats.norm.ppf(1 - alpha / 2)\n",
        "print(f\"Critical Value (two-tailed): ±{critical_value_two_tailed}\")"
      ],
      "metadata": {
        "colab": {
          "base_uri": "https://localhost:8080/"
        },
        "id": "GGwpdKKfZI_3",
        "outputId": "efc38f4b-553d-4477-ec53-dd8339560280"
      },
      "execution_count": 1,
      "outputs": [
        {
          "output_type": "stream",
          "name": "stdout",
          "text": [
            "Critical Value (one-tailed): 1.6448536269514722\n",
            "Critical Value (two-tailed): ±1.959963984540054\n"
          ]
        }
      ]
    },
    {
      "cell_type": "markdown",
      "source": [
        "# **DECISION**\n",
        "\n",
        "Critical Value (one-tailed): 1.66 Test Statistic (t-score): -38 Comparison Since the test statistic (-38) is much less than the critical value (1.66), it falls in the rejection region of the null hypothesis.\n",
        "\n",
        "Decision Reject the Null Hypothesis (H₀): The evidence strongly suggests that the mean weekly operating cost is significantly different from the theoretical mean of Rs. 4,000. Specifically, the observed costs are much lower than expected."
      ],
      "metadata": {
        "id": "1xxlWdE3ZTte"
      }
    },
    {
      "cell_type": "markdown",
      "source": [
        "# **CONCLUSION**\n",
        "\n",
        "The data suggests that the restaurant owners' assertion about rising weekly operating costs is not substantiated. On the contrary, it seems the actual expenses are less than what the theoretical model forecasts."
      ],
      "metadata": {
        "id": "gl5ZKIyxZnaz"
      }
    },
    {
      "cell_type": "markdown",
      "source": [
        "# **STATE THE HYPOTHESIS**\n",
        "\n",
        "Null Hypothesis (H₀): This is the hypothesis that there is no effect or no difference. It's the assumption that any kind of difference or significance you see in a set of data is due to chance.\n",
        "\n",
        "Alternative Hypothesis (H₁): This is what you want to prove. It's the hypothesis that there is an effect or a difference.\n",
        "\n",
        "chisquare statistics = Χ2 = ∑ (Oi – Ei)2/Ei o = observed values E= expected values\n",
        "\n",
        "expected frequency = total no of observation * total no of observations for the column/total no of observations"
      ],
      "metadata": {
        "id": "dE3Hb5NtZ2Fq"
      }
    },
    {
      "cell_type": "markdown",
      "source": [
        "# **CHI SQUARE STATISTICS**\n",
        "\n",
        "Satisfaction Smart Thermostat Smart Light Total Very Satisfied 50 70 120 Satisfied 80 100 180 Neutral 60 90 150 Unsatisfied 30 50 80 Very Unsatisfied 20 50 70 Total 240 360 600\n",
        "\n",
        "Satisfaction Smart Thermostat Smart Light Total Very Satisfied 10 14 120 Satisfied 24 30 180 Neutral 15 22.5 150 Unsatisfied 4 6.66 80 Very Unsatisfied 2.33 5.833 70 Total 240 360 600\n",
        "\n",
        "Χ2 = ∑ (Oi – Ei)2/Ei in subgroup of very satisfied and smart thermostat= 160 in subgroup of satisfied and smart thermostat=130.66 in subgroup of neutraland smart thermostat=15 in subgroup of unsatisfied and smart thermostat=169 in subgroup of very unsatisfied and smart thermostat=134.003 in subgroup of very satisfied and smart light=224 in subgroup of satisfied and smart light=163.33 in subgroup of neutral and smart light= 202.5 in subgroup of unsatisfied and smart light=282.03 in subgroup of very unsatisfied and smart light= 334.42\n",
        "\n",
        "then take sum = 1814.943=test statistics"
      ],
      "metadata": {
        "id": "vdKzAXacaKuf"
      }
    },
    {
      "cell_type": "markdown",
      "source": [
        "# **DETERMINING CRITICAL VALUE**"
      ],
      "metadata": {
        "id": "SNj_94rSaX_C"
      }
    },
    {
      "cell_type": "code",
      "source": [
        "# given alpha =0.05,DEGRE OF FREEDOM= 4\n",
        "import scipy.stats as stats\n",
        "\n",
        "# For a chi-square distribution\n",
        "alpha = 0.05\n",
        "df = 4\n",
        "critical_value = stats.chi2.ppf(1 - alpha, df)\n",
        "print(f\"Critical Value: {critical_value}\")"
      ],
      "metadata": {
        "colab": {
          "base_uri": "https://localhost:8080/"
        },
        "id": "ULcSajOeaWnA",
        "outputId": "02e4220b-e279-4112-f6d5-9ffdb4886b64"
      },
      "execution_count": 2,
      "outputs": [
        {
          "output_type": "stream",
          "name": "stdout",
          "text": [
            "Critical Value: 9.487729036781154\n"
          ]
        }
      ]
    },
    {
      "cell_type": "markdown",
      "source": [
        "# **MAKING THE DECISION**\n",
        "\n",
        "test statistics > critical value we reject null hypothesis hence : there is a significant association between the type of smart home device purchased (Smart Thermostats vs. Smart Lights) and the customer satisfaction level."
      ],
      "metadata": {
        "id": "TLM5Rz8saltR"
      }
    }
  ]
}